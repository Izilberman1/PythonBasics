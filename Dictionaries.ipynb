{
 "cells": [
  {
   "cell_type": "code",
   "execution_count": 3,
   "id": "34cf75bc",
   "metadata": {},
   "outputs": [],
   "source": [
    "weapons = None"
   ]
  },
  {
   "cell_type": "code",
   "execution_count": 5,
   "id": "6d250b30",
   "metadata": {},
   "outputs": [
    {
     "name": "stdout",
     "output_type": "stream",
     "text": [
      "None\n"
     ]
    }
   ],
   "source": [
    "print(weapons)"
   ]
  },
  {
   "cell_type": "code",
   "execution_count": 9,
   "id": "7a6b55a1",
   "metadata": {},
   "outputs": [
    {
     "name": "stdout",
     "output_type": "stream",
     "text": [
      "2\n"
     ]
    }
   ],
   "source": [
    "#dictionary\n",
    "dictionary = {\n",
    "    'a': 1,\n",
    "    'b': 2,\n",
    "}\n",
    "\n",
    "print(dictionary['b'])"
   ]
  },
  {
   "cell_type": "code",
   "execution_count": 13,
   "id": "84b702fe",
   "metadata": {},
   "outputs": [
    {
     "name": "stdout",
     "output_type": "stream",
     "text": [
      "{'a': 1, 'b': 2, 'x': 3, 'f': 4, 'g': 55}\n"
     ]
    }
   ],
   "source": [
    "#dictionary\n",
    "dictionary = {\n",
    "    'a': 1,\n",
    "    'b': 2,\n",
    "    'x': 3,\n",
    "    'f': 4,\n",
    "    'g': 55\n",
    "}\n",
    "\n",
    "print(dictionary)"
   ]
  },
  {
   "cell_type": "code",
   "execution_count": 15,
   "id": "972f8302",
   "metadata": {},
   "outputs": [
    {
     "name": "stdout",
     "output_type": "stream",
     "text": [
      "2\n"
     ]
    }
   ],
   "source": [
    "#dictionary\n",
    "dictionary = {\n",
    "    'a': [1,2,3],\n",
    "    'b': 'hello',\n",
    "    'x': True,\n",
    "    'f': False,\n",
    "    'g': 'Itamar'\n",
    "}\n",
    "\n",
    "print(dictionary['a'][1])"
   ]
  },
  {
   "cell_type": "code",
   "execution_count": 16,
   "id": "08df5c36",
   "metadata": {},
   "outputs": [
    {
     "name": "stdout",
     "output_type": "stream",
     "text": [
      "3\n",
      "2\n"
     ]
    }
   ],
   "source": [
    "#dictionary\n",
    "dictionary = {\n",
    "    'a': [1,2,3],\n",
    "    'b': 'hello',\n",
    "    'x': True,\n",
    "    'f': False,\n",
    "    'g': 'Itamar'\n",
    "}\n",
    "my_list = [\n",
    "    { \n",
    "    'a': [1,2,3],\n",
    "    'b': 'hello',\n",
    "    'x': True,\n",
    "    'f': False,\n",
    "    'g': 'Itamar'\n",
    "    },\n",
    "    {\n",
    "    'a': [4,5,6],\n",
    "    'b': 'hello',\n",
    "    'x': True,\n",
    "    'f': False,\n",
    "    'g': 'Itamar'\n",
    "    }\n",
    "]\n",
    "\n",
    "print(my_list[0]['a'][2])\n",
    "print(dictionary['a'][1])"
   ]
  },
  {
   "cell_type": "code",
   "execution_count": 23,
   "id": "4330f541",
   "metadata": {},
   "outputs": [
    {
     "name": "stdout",
     "output_type": "stream",
     "text": [
      "20\n"
     ]
    }
   ],
   "source": [
    "user = {\n",
    "    'basket': [1,2,3],\n",
    "    'greet': 'hello',\n",
    "    'age': 20\n",
    "    \n",
    "}\n",
    "\n",
    "print(user.get('age'))"
   ]
  },
  {
   "cell_type": "code",
   "execution_count": 25,
   "id": "cbc16fbb",
   "metadata": {},
   "outputs": [
    {
     "name": "stdout",
     "output_type": "stream",
     "text": [
      "{'name': 'johnjohn'}\n"
     ]
    }
   ],
   "source": [
    "user = {\n",
    "    'basket': [1,2,3],\n",
    "    'greet': 'hello',\n",
    "    'age': 20\n",
    "}\n",
    "\n",
    "user2 = dict(name='johnjohn')\n",
    "print(user2)"
   ]
  },
  {
   "cell_type": "code",
   "execution_count": 27,
   "id": "815ad22d",
   "metadata": {},
   "outputs": [
    {
     "name": "stdout",
     "output_type": "stream",
     "text": [
      "False\n"
     ]
    }
   ],
   "source": [
    "user = {\n",
    "    'basket': [1,2,3],\n",
    "    'greet': 'hello',\n",
    "    'age': 20\n",
    "}\n",
    "\n",
    "print('size' in user)"
   ]
  },
  {
   "cell_type": "code",
   "execution_count": 28,
   "id": "ec47c6ec",
   "metadata": {},
   "outputs": [
    {
     "name": "stdout",
     "output_type": "stream",
     "text": [
      "False\n"
     ]
    }
   ],
   "source": [
    "user = {\n",
    "    'basket': [1,2,3],\n",
    "    'greet': 'hello',\n",
    "    'age': 20\n",
    "}\n",
    "\n",
    "print('size' in user.keys())"
   ]
  },
  {
   "cell_type": "code",
   "execution_count": 29,
   "id": "a17ba466",
   "metadata": {},
   "outputs": [
    {
     "name": "stdout",
     "output_type": "stream",
     "text": [
      "True\n"
     ]
    }
   ],
   "source": [
    "user = {\n",
    "    'basket': [1,2,3],\n",
    "    'greet': 'hello',\n",
    "    'age': 20\n",
    "}\n",
    "\n",
    "print('hello' in user.values())"
   ]
  },
  {
   "cell_type": "code",
   "execution_count": 30,
   "id": "9582dd43",
   "metadata": {},
   "outputs": [
    {
     "name": "stdout",
     "output_type": "stream",
     "text": [
      "dict_items([('basket', [1, 2, 3]), ('greet', 'hello'), ('age', 20)])\n"
     ]
    }
   ],
   "source": [
    "user = {\n",
    "    'basket': [1,2,3],\n",
    "    'greet': 'hello',\n",
    "    'age': 20\n",
    "}\n",
    "\n",
    "print(user.items())"
   ]
  },
  {
   "cell_type": "code",
   "execution_count": 31,
   "id": "52775e28",
   "metadata": {},
   "outputs": [
    {
     "name": "stdout",
     "output_type": "stream",
     "text": [
      "None\n"
     ]
    }
   ],
   "source": [
    "user = {\n",
    "    'basket': [1,2,3],\n",
    "    'greet': 'hello',\n",
    "    'age': 20\n",
    "}\n",
    "\n",
    "print(user.clear())"
   ]
  },
  {
   "cell_type": "code",
   "execution_count": 33,
   "id": "de19fe02",
   "metadata": {},
   "outputs": [
    {
     "name": "stdout",
     "output_type": "stream",
     "text": [
      "{'basket': [1, 2, 3], 'greet': 'hello', 'age': 20}\n",
      "{'basket': [1, 2, 3], 'greet': 'hello', 'age': 20}\n"
     ]
    }
   ],
   "source": [
    "user = {\n",
    "    'basket': [1,2,3],\n",
    "    'greet': 'hello',\n",
    "    'age': 20\n",
    "}\n",
    "\n",
    "user2 = user.copy()\n",
    "print(user)\n",
    "print(user2)"
   ]
  },
  {
   "cell_type": "code",
   "execution_count": 34,
   "id": "2b234cf5",
   "metadata": {},
   "outputs": [
    {
     "name": "stdout",
     "output_type": "stream",
     "text": [
      "None\n",
      "{'basket': [1, 2, 3], 'greet': 'hello', 'age': 20}\n"
     ]
    }
   ],
   "source": [
    "user = {\n",
    "    'basket': [1,2,3],\n",
    "    'greet': 'hello',\n",
    "    'age': 20\n",
    "}\n",
    "\n",
    "user2 = user.copy()\n",
    "print(user.clear())\n",
    "print(user2)"
   ]
  },
  {
   "cell_type": "code",
   "execution_count": 37,
   "id": "1ab2f2e8",
   "metadata": {},
   "outputs": [
    {
     "name": "stdout",
     "output_type": "stream",
     "text": [
      "20\n",
      "{'basket': [1, 2, 3], 'greet': 'hello'}\n"
     ]
    }
   ],
   "source": [
    "user = {\n",
    "    'basket': [1,2,3],\n",
    "    'greet': 'hello',\n",
    "    'age': 20\n",
    "}\n",
    "\n",
    "print(user.pop('age'))\n",
    "print(user)"
   ]
  },
  {
   "cell_type": "code",
   "execution_count": 38,
   "id": "c052ad4d",
   "metadata": {},
   "outputs": [
    {
     "name": "stdout",
     "output_type": "stream",
     "text": [
      "('age', 20)\n",
      "{'basket': [1, 2, 3], 'greet': 'hello'}\n"
     ]
    }
   ],
   "source": [
    "user = {\n",
    "    'basket': [1,2,3],\n",
    "    'greet': 'hello',\n",
    "    'age': 20\n",
    "}\n",
    "\n",
    "print(user.popitem())\n",
    "print(user)"
   ]
  },
  {
   "cell_type": "code",
   "execution_count": 39,
   "id": "ed5fad1b",
   "metadata": {},
   "outputs": [
    {
     "name": "stdout",
     "output_type": "stream",
     "text": [
      "None\n",
      "{'basket': [1, 2, 3], 'greet': 'hello', 'age': 55}\n"
     ]
    }
   ],
   "source": [
    "user = {\n",
    "    'basket': [1,2,3],\n",
    "    'greet': 'hello',\n",
    "    'age': 20\n",
    "}\n",
    "\n",
    "print(user.update({'age': 55}))\n",
    "print(user)"
   ]
  }
 ],
 "metadata": {
  "kernelspec": {
   "display_name": "Python 3 (ipykernel)",
   "language": "python",
   "name": "python3"
  },
  "language_info": {
   "codemirror_mode": {
    "name": "ipython",
    "version": 3
   },
   "file_extension": ".py",
   "mimetype": "text/x-python",
   "name": "python",
   "nbconvert_exporter": "python",
   "pygments_lexer": "ipython3",
   "version": "3.9.13"
  }
 },
 "nbformat": 4,
 "nbformat_minor": 5
}
