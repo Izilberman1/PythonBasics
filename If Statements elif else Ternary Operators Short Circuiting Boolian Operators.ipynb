{
 "cells": [
  {
   "cell_type": "code",
   "execution_count": 1,
   "id": "9df44115",
   "metadata": {},
   "outputs": [
    {
     "name": "stdout",
     "output_type": "stream",
     "text": [
      "you are old enough to drive!\n"
     ]
    }
   ],
   "source": [
    "is_old = True\n",
    "is_license = True\n",
    "\n",
    "if is_old:#if this conditional statement happens to be true, run everything that is inside the indentation\n",
    "    print('you are old enough to drive!')"
   ]
  },
  {
   "cell_type": "code",
   "execution_count": 2,
   "id": "c83a0ef7",
   "metadata": {},
   "outputs": [
    {
     "name": "stdout",
     "output_type": "stream",
     "text": [
      "checkcheck\n"
     ]
    }
   ],
   "source": [
    "is_old = False\n",
    "is_license = True\n",
    "\n",
    "if is_old:\n",
    "    print('you are old enough to drive!')\n",
    "print('checkcheck')#since the if statement is not true the program skips the indentation code and prints what is out of it"
   ]
  },
  {
   "cell_type": "code",
   "execution_count": 3,
   "id": "6a98633b",
   "metadata": {},
   "outputs": [
    {
     "name": "stdout",
     "output_type": "stream",
     "text": [
      "checkcheck\n"
     ]
    }
   ],
   "source": [
    "is_old = False\n",
    "is_license = True\n",
    "\n",
    "if is_old:\n",
    "    print('you are old enough to drive!')\n",
    "else:#only runs if the if block of code evaluates to False\n",
    "    print('checkcheck')"
   ]
  },
  {
   "cell_type": "code",
   "execution_count": 4,
   "id": "bbce6297",
   "metadata": {},
   "outputs": [
    {
     "name": "stdout",
     "output_type": "stream",
     "text": [
      "you are old enough to drive!\n"
     ]
    }
   ],
   "source": [
    "is_old = True\n",
    "is_license = True\n",
    "\n",
    "if is_old:\n",
    "    print('you are old enough to drive!')\n",
    "else:\n",
    "    print('checkcheck')"
   ]
  },
  {
   "cell_type": "code",
   "execution_count": 6,
   "id": "0e444444",
   "metadata": {},
   "outputs": [
    {
     "name": "stdout",
     "output_type": "stream",
     "text": [
      "you are old enough to drive!\n",
      "okoko\n"
     ]
    }
   ],
   "source": [
    "is_old = True\n",
    "is_license = True\n",
    "\n",
    "if is_old:#True\n",
    "    print('you are old enough to drive!')\n",
    "else:#skips this since if satement evaluates to True\n",
    "    print('checkcheck')\n",
    "\n",
    "print('okoko')#prints this since it is out of the if block."
   ]
  },
  {
   "cell_type": "code",
   "execution_count": 7,
   "id": "39e236ea",
   "metadata": {},
   "outputs": [
    {
     "name": "stdout",
     "output_type": "stream",
     "text": [
      "you are old enough to drive!\n",
      "okoko\n"
     ]
    }
   ],
   "source": [
    "is_old = True\n",
    "is_license = True\n",
    "\n",
    "if is_old:#True\n",
    "    print('you are old enough to drive!')\n",
    "elif is_licensed:#True\n",
    "    print('you can drive now!')\n",
    "else:#Ignore\n",
    "    print('checkcheck')\n",
    "    \n",
    "print('okoko')#Print out of loop"
   ]
  },
  {
   "cell_type": "code",
   "execution_count": 9,
   "id": "c09e4c96",
   "metadata": {},
   "outputs": [
    {
     "name": "stdout",
     "output_type": "stream",
     "text": [
      "you can drive now!\n",
      "okoko\n"
     ]
    }
   ],
   "source": [
    "is_old = False\n",
    "is_license = True\n",
    "\n",
    "if is_old:#False\n",
    "    print('you are old enough to drive!')\n",
    "elif is_license:#True\n",
    "    print('you can drive now!')\n",
    "else:#Ignore\n",
    "    print('checkcheck')\n",
    "    \n",
    "print('okoko')#Print out of loop"
   ]
  },
  {
   "cell_type": "code",
   "execution_count": 10,
   "id": "1f388d32",
   "metadata": {},
   "outputs": [
    {
     "name": "stdout",
     "output_type": "stream",
     "text": [
      "checkcheck\n",
      "okoko\n"
     ]
    }
   ],
   "source": [
    "is_old = False\n",
    "is_license = False\n",
    "\n",
    "if is_old:#False\n",
    "    print('you are old enough to drive!')\n",
    "elif is_license:#False\n",
    "    print('you can drive now!')\n",
    "else:#Print\n",
    "    print('checkcheck')\n",
    "    \n",
    "print('okoko')#Print out of loop"
   ]
  },
  {
   "cell_type": "code",
   "execution_count": 11,
   "id": "e0749d7a",
   "metadata": {},
   "outputs": [
    {
     "name": "stdout",
     "output_type": "stream",
     "text": [
      "checkcheck\n",
      "okoko\n"
     ]
    }
   ],
   "source": [
    "is_old = False\n",
    "is_license = False\n",
    "\n",
    "if is_old and is_license:#both of these have to equal to True.\n",
    "    print(\"you are old enough to drive, and you've got a license!\")\n",
    "\n",
    "else:#Print\n",
    "    print('checkcheck')\n",
    "    \n",
    "print('okoko')#Print out of loop"
   ]
  },
  {
   "cell_type": "code",
   "execution_count": 12,
   "id": "2563fbe4",
   "metadata": {},
   "outputs": [
    {
     "name": "stdout",
     "output_type": "stream",
     "text": [
      "checkcheck\n",
      "okoko\n"
     ]
    }
   ],
   "source": [
    "is_old = True\n",
    "is_license = False\n",
    "\n",
    "if is_old and is_license:#both of these have to equal to True.\n",
    "    print(\"you are old enough to drive, and you've got a license!\")\n",
    "\n",
    "else:#Print\n",
    "    print('checkcheck')\n",
    "    \n",
    "print('okoko')#Print out of loop"
   ]
  },
  {
   "cell_type": "code",
   "execution_count": 13,
   "id": "84bb676f",
   "metadata": {},
   "outputs": [
    {
     "name": "stdout",
     "output_type": "stream",
     "text": [
      "you are old enough to drive, and you've got a license!\n",
      "okoko\n"
     ]
    }
   ],
   "source": [
    "is_old = True\n",
    "is_license = True\n",
    "\n",
    "if is_old and is_license:#both of these equal to True.\n",
    "    print(\"you are old enough to drive, and you've got a license!\")\n",
    "\n",
    "else:#Ignore\n",
    "    print('checkcheck')\n",
    "    \n",
    "print('okoko')#Print out of loop"
   ]
  },
  {
   "cell_type": "code",
   "execution_count": 16,
   "id": "23f320d0",
   "metadata": {},
   "outputs": [
    {
     "name": "stdout",
     "output_type": "stream",
     "text": [
      "you are old enough to drive, and you've got a license!\n"
     ]
    }
   ],
   "source": [
    "is_old = 'hello'#python converts these to bullions which equal to 1=True\n",
    "is_license = 5#python converts these to bullions which equal to 1=True\n",
    "\n",
    "if is_old and is_license:#both of these equal to True.\n",
    "    print(\"you are old enough to drive, and you've got a license!\")\n",
    "\n",
    "else:#Ignore\n",
    "    print('checkcheck')\n",
    "    print('okoko')"
   ]
  },
  {
   "cell_type": "code",
   "execution_count": 20,
   "id": "5adabc0c",
   "metadata": {},
   "outputs": [
    {
     "name": "stdout",
     "output_type": "stream",
     "text": [
      "True\n",
      "True\n",
      "you are old enough to drive, and you've got a license!\n"
     ]
    }
   ],
   "source": [
    "is_old = 'hello'#python converts these to bullions which equal to 1=True\n",
    "is_license = 5#python converts these to bullions which equal to 1=True\n",
    "\n",
    "print(bool('hello'))#Truthy Value=1=True\n",
    "print(bool(5))#Truthy Value=1=True\n",
    "\n",
    "if is_old and is_license: #both of these equal to True.\n",
    "    print(\"you are old enough to drive, and you've got a license!\")\n",
    "\n",
    "else:#Ignore\n",
    "    print('checkcheck')\n",
    "    print('okoko')"
   ]
  },
  {
   "cell_type": "code",
   "execution_count": 21,
   "id": "e1286743",
   "metadata": {},
   "outputs": [
    {
     "name": "stdout",
     "output_type": "stream",
     "text": [
      "False\n",
      "False\n",
      "you are old enough to drive, and you've got a license!\n"
     ]
    }
   ],
   "source": [
    "is_old = 'hello'#python converts these to bullions which equal to 1=True\n",
    "is_license = 5#python converts these to bullions which equal to 1=True\n",
    "\n",
    "print(bool(''))#Falsy Value=0=False\n",
    "print(bool(0))#Falsy Value=0=False\n",
    "\n",
    "if is_old and is_license: #both of these equal to True.\n",
    "    print(\"you are old enough to drive, and you've got a license!\")\n",
    "\n",
    "else:#Ignore\n",
    "    print('checkcheck')\n",
    "    print('okoko')"
   ]
  },
  {
   "cell_type": "code",
   "execution_count": 22,
   "id": "5f283030",
   "metadata": {},
   "outputs": [
    {
     "name": "stdout",
     "output_type": "stream",
     "text": [
      "log-in successful\n"
     ]
    }
   ],
   "source": [
    "username = 'Itamar'\n",
    "password = '123'\n",
    "\n",
    "if username and password:\n",
    "    print('log-in successful')\n",
    "else:\n",
    "    print('wrong username or password')"
   ]
  },
  {
   "cell_type": "code",
   "execution_count": 28,
   "id": "bce4512d",
   "metadata": {},
   "outputs": [
    {
     "name": "stdout",
     "output_type": "stream",
     "text": [
      "message allowed\n"
     ]
    }
   ],
   "source": [
    "#Ternary Operator|Conditional Expression\n",
    "#condition_if_true if condition else condition_if_false\n",
    "is_friend = True\n",
    "can_message = \"message allowed\" if is_friend else \"not allowed to message\"\n",
    "\n",
    "print(can_message)"
   ]
  },
  {
   "cell_type": "code",
   "execution_count": 29,
   "id": "25dffc74",
   "metadata": {},
   "outputs": [
    {
     "name": "stdout",
     "output_type": "stream",
     "text": [
      "True\n"
     ]
    }
   ],
   "source": [
    "#short circuiting\n",
    "is_friend = True\n",
    "is_user = True\n",
    "\n",
    "print(is_friend and is_user)"
   ]
  },
  {
   "cell_type": "code",
   "execution_count": 30,
   "id": "1fd64cfe",
   "metadata": {},
   "outputs": [
    {
     "name": "stdout",
     "output_type": "stream",
     "text": [
      "best friend forever <3\n"
     ]
    }
   ],
   "source": [
    "#short circuiting\n",
    "is_friend = True\n",
    "is_user = True\n",
    "\n",
    "if is_friend and is_user:\n",
    "    print('best friend forever <3')"
   ]
  },
  {
   "cell_type": "code",
   "execution_count": 32,
   "id": "4c3f4d9e",
   "metadata": {},
   "outputs": [
    {
     "name": "stdout",
     "output_type": "stream",
     "text": [
      "best friend forever <3\n"
     ]
    }
   ],
   "source": [
    "#short circuiting\n",
    "is_friend = False\n",
    "is_user = True\n",
    "\n",
    "if is_friend or is_user:\n",
    "    print('best friend forever <3')"
   ]
  },
  {
   "cell_type": "code",
   "execution_count": 39,
   "id": "1bfeddfc",
   "metadata": {},
   "outputs": [],
   "source": [
    "#short circuiting\n",
    "is_friend = False\n",
    "is_user = True\n",
    "\n",
    "if is_friend and is_user:\n",
    "    print('best friend forever <3')"
   ]
  },
  {
   "cell_type": "code",
   "execution_count": 40,
   "id": "fb0cee5f",
   "metadata": {},
   "outputs": [
    {
     "name": "stdout",
     "output_type": "stream",
     "text": [
      "True\n"
     ]
    }
   ],
   "source": [
    "print('a' > 'A')#a is greater due to them both sharing the same place in memory."
   ]
  },
  {
   "cell_type": "code",
   "execution_count": 41,
   "id": "6849dbd0",
   "metadata": {},
   "outputs": [
    {
     "name": "stdout",
     "output_type": "stream",
     "text": [
      "False\n"
     ]
    }
   ],
   "source": [
    "print(not(True))"
   ]
  },
  {
   "cell_type": "code",
   "execution_count": 42,
   "id": "e31c2849",
   "metadata": {},
   "outputs": [
    {
     "name": "stdout",
     "output_type": "stream",
     "text": [
      "True\n"
     ]
    }
   ],
   "source": [
    "print(not(False))"
   ]
  },
  {
   "cell_type": "code",
   "execution_count": 44,
   "id": "701ecdd2",
   "metadata": {},
   "outputs": [
    {
     "name": "stdout",
     "output_type": "stream",
     "text": [
      "False\n"
     ]
    }
   ],
   "source": [
    "print(not(1==1))"
   ]
  },
  {
   "cell_type": "code",
   "execution_count": 47,
   "id": "dcf0cf6e",
   "metadata": {},
   "outputs": [
    {
     "name": "stdout",
     "output_type": "stream",
     "text": [
      "You need magic powers!\n"
     ]
    }
   ],
   "source": [
    "is_magician = False\n",
    "is_expert = True\n",
    "\n",
    "#check if magician AND expert: \"you are a master magician!\"\n",
    "if is_magician and is_expert:\n",
    "    print(\"you are a master magician!\")\n",
    "#check if magician but not expert: \"at least you are getting there!\"\n",
    "elif is_magician and not is_expert:\n",
    "    print(\"at least you are getting there!\")\n",
    "#if you are not a magician: \"You need magic powers!\"\n",
    "elif not is_magician:\n",
    "    print(\"You need magic powers!\")"
   ]
  },
  {
   "cell_type": "code",
   "execution_count": 48,
   "id": "d9bab626",
   "metadata": {},
   "outputs": [
    {
     "name": "stdout",
     "output_type": "stream",
     "text": [
      "you are a master magician!\n"
     ]
    }
   ],
   "source": [
    "is_magician = True\n",
    "is_expert = True\n",
    "\n",
    "#check if magician AND expert: \"you are a master magician!\"\n",
    "if is_magician and is_expert:\n",
    "    print(\"you are a master magician!\")\n",
    "#check if magician but not expert: \"at least you are getting there!\"\n",
    "elif is_magician and not is_expert:\n",
    "    print(\"at least you are getting there!\")\n",
    "#if you are not a magician: \"You need magic powers!\"\n",
    "elif not is_magician:\n",
    "    print(\"You need magic powers!\")"
   ]
  },
  {
   "cell_type": "code",
   "execution_count": 49,
   "id": "02e1fade",
   "metadata": {},
   "outputs": [
    {
     "name": "stdout",
     "output_type": "stream",
     "text": [
      "at least you are getting there!\n"
     ]
    }
   ],
   "source": [
    "is_magician = True\n",
    "is_expert = False\n",
    "\n",
    "#check if magician AND expert: \"you are a master magician!\"\n",
    "if is_magician and is_expert:\n",
    "    print(\"you are a master magician!\")\n",
    "#check if magician but not expert: \"at least you are getting there!\"\n",
    "elif is_magician and not is_expert:\n",
    "    print(\"at least you are getting there!\")\n",
    "#if you are not a magician: \"You need magic powers!\"\n",
    "elif not is_magician:\n",
    "    print(\"You need magic powers!\")"
   ]
  },
  {
   "cell_type": "code",
   "execution_count": 50,
   "id": "8bebfcd0",
   "metadata": {},
   "outputs": [
    {
     "name": "stdout",
     "output_type": "stream",
     "text": [
      "True\n",
      "False\n",
      "False\n",
      "True\n",
      "True\n"
     ]
    }
   ],
   "source": [
    "#is vs == (checks for equality of value)\n",
    "print(True == 1) #True will be converted to a boolian value TRUE=1\n",
    "print('' == 1) #False empty string is falsy and FALSE != 1\n",
    "print([] == 1) #False empty list is falsy and FALSE != 1\n",
    "print(10 == 10.0) #True will be converted to an integer or a float which will equal each other\n",
    "print([] == []) #True bothe empty lists equal each others."
   ]
  },
  {
   "cell_type": "code",
   "execution_count": 53,
   "id": "79bc18eb",
   "metadata": {},
   "outputs": [
    {
     "name": "stdout",
     "output_type": "stream",
     "text": [
      "True\n",
      "True\n",
      "False\n",
      "False\n",
      "False\n"
     ]
    },
    {
     "name": "stderr",
     "output_type": "stream",
     "text": [
      "<>:3: SyntaxWarning: \"is\" with a literal. Did you mean \"==\"?\n",
      "<>:5: SyntaxWarning: \"is\" with a literal. Did you mean \"==\"?\n",
      "<>:3: SyntaxWarning: \"is\" with a literal. Did you mean \"==\"?\n",
      "<>:5: SyntaxWarning: \"is\" with a literal. Did you mean \"==\"?\n",
      "C:\\Users\\16476\\AppData\\Local\\Temp\\ipykernel_2904\\3781051001.py:3: SyntaxWarning: \"is\" with a literal. Did you mean \"==\"?\n",
      "  print('1' is '1') #\n",
      "C:\\Users\\16476\\AppData\\Local\\Temp\\ipykernel_2904\\3781051001.py:5: SyntaxWarning: \"is\" with a literal. Did you mean \"==\"?\n",
      "  print(10 is 10.0) #\n"
     ]
    }
   ],
   "source": [
    "#== vs is (checks the location in memory where this value is stored is the same)\n",
    "print(True is True) #\n",
    "print('1' is '1') #\n",
    "print([] is []) #Two lists [DATA STRUCTURES] stored in different locations in memory prodeces FALSE\n",
    "print(10 is 10.0) #\n",
    "print([1,2,3] is [1,2,3]) #"
   ]
  }
 ],
 "metadata": {
  "kernelspec": {
   "display_name": "Python 3 (ipykernel)",
   "language": "python",
   "name": "python3"
  },
  "language_info": {
   "codemirror_mode": {
    "name": "ipython",
    "version": 3
   },
   "file_extension": ".py",
   "mimetype": "text/x-python",
   "name": "python",
   "nbconvert_exporter": "python",
   "pygments_lexer": "ipython3",
   "version": "3.9.13"
  }
 },
 "nbformat": 4,
 "nbformat_minor": 5
}
